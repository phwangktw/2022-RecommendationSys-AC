{
  "cells": [
    {
      "cell_type": "markdown",
      "metadata": {
        "id": "vWGdvflM5D0n"
      },
      "source": [
        "# Session1: Rule-based Recommendation Algorithm"
      ],
      "id": "vWGdvflM5D0n"
    },
    {
      "cell_type": "markdown",
      "metadata": {
        "id": "AG-w4GJ45D0q"
      },
      "source": [
        "## Step1. Load data"
      ],
      "id": "AG-w4GJ45D0q"
    },
    {
      "cell_type": "code",
      "execution_count": 1,
      "metadata": {
        "scrolled": true,
        "id": "sRTULEtn5D0r"
      },
      "outputs": [],
      "source": [
        "import pandas as pd\n",
        "import gzip, json\n",
        "\n",
        "def parse(path):\n",
        "    g = gzip.open(path, 'rb')\n",
        "    for l in g:\n",
        "        yield json.loads(l)\n",
        "\n",
        "def getDF(path):\n",
        "    i = 0\n",
        "    df = {}\n",
        "    for d in parse(path):\n",
        "        df[i] = d\n",
        "        i += 1\n",
        "    return pd.DataFrame.from_dict(df, orient='index')"
      ],
      "id": "sRTULEtn5D0r"
    },
    {
      "cell_type": "markdown",
      "metadata": {
        "id": "pYymDSh45D0t"
      },
      "source": [
        "## Step2. Download data"
      ],
      "id": "pYymDSh45D0t"
    },
    {
      "cell_type": "code",
      "execution_count": 2,
      "metadata": {
        "id": "94C7R62V5D0u",
        "outputId": "f435ab72-ebea-4195-a27b-6b4350f072e2",
        "colab": {
          "base_uri": "https://localhost:8080/"
        }
      },
      "outputs": [
        {
          "output_type": "stream",
          "name": "stdout",
          "text": [
            "--2021-12-30 20:57:05--  http://deepyeti.ucsd.edu/jianmo/amazon/categoryFilesSmall/All_Beauty.csv\n",
            "Resolving deepyeti.ucsd.edu (deepyeti.ucsd.edu)... 169.228.63.50\n",
            "Connecting to deepyeti.ucsd.edu (deepyeti.ucsd.edu)|169.228.63.50|:80... connected.\n",
            "HTTP request sent, awaiting response... 200 OK\n",
            "Length: 15499476 (15M) [application/octet-stream]\n",
            "Saving to: ‘All_Beauty.csv’\n",
            "\n",
            "All_Beauty.csv      100%[===================>]  14.78M  19.2MB/s    in 0.8s    \n",
            "\n",
            "2021-12-30 20:57:06 (19.2 MB/s) - ‘All_Beauty.csv’ saved [15499476/15499476]\n",
            "\n",
            "--2021-12-30 20:57:06--  http://deepyeti.ucsd.edu/jianmo/amazon/metaFiles2/meta_All_Beauty.json.gz\n",
            "Resolving deepyeti.ucsd.edu (deepyeti.ucsd.edu)... 169.228.63.50\n",
            "Connecting to deepyeti.ucsd.edu (deepyeti.ucsd.edu)|169.228.63.50|:80... connected.\n",
            "HTTP request sent, awaiting response... 200 OK\n",
            "Length: 10329961 (9.9M) [application/octet-stream]\n",
            "Saving to: ‘meta_All_Beauty.json.gz’\n",
            "\n",
            "meta_All_Beauty.jso 100%[===================>]   9.85M  15.2MB/s    in 0.6s    \n",
            "\n",
            "2021-12-30 20:57:07 (15.2 MB/s) - ‘meta_All_Beauty.json.gz’ saved [10329961/10329961]\n",
            "\n"
          ]
        }
      ],
      "source": [
        "!wget http://deepyeti.ucsd.edu/jianmo/amazon/categoryFilesSmall/All_Beauty.csv\n",
        "!wget http://deepyeti.ucsd.edu/jianmo/amazon/metaFiles2/meta_All_Beauty.json.gz"
      ],
      "id": "94C7R62V5D0u"
    },
    {
      "cell_type": "code",
      "execution_count": 3,
      "metadata": {
        "id": "bXT6fiza5D0v"
      },
      "outputs": [],
      "source": [
        "metadata = getDF('/content/meta_All_Beauty.json.gz')\n",
        "ratings = pd.read_csv('/content/All_Beauty.csv', names=['asin', 'reviewerID', 'overall', 'unixReviewTime'], header=None)"
      ],
      "id": "bXT6fiza5D0v"
    },
    {
      "cell_type": "markdown",
      "metadata": {
        "id": "QIhY9kbZ5D0x"
      },
      "source": [
        "## Step3. Parsing data"
      ],
      "id": "QIhY9kbZ5D0x"
    },
    {
      "cell_type": "markdown",
      "source": [
        "### Step3-1: Convert time format"
      ],
      "metadata": {
        "id": "vyPiZCLpoxEC"
      },
      "id": "vyPiZCLpoxEC"
    },
    {
      "cell_type": "code",
      "execution_count": 7,
      "metadata": {
        "id": "REDFV9CK5D0x"
      },
      "outputs": [],
      "source": [
        "ratings['DATE'] = pd.to_datetime(ratings['unixReviewTime'], unit='s')"
      ],
      "id": "REDFV9CK5D0x"
    },
    {
      "cell_type": "markdown",
      "source": [
        "### Step3-2: Data preprocessing\n",
        "\n",
        "\n",
        "*   Dropout the duplicated rows\n",
        "*   Fill the blanks with `nan`\n",
        "*   Parsing the `description` column for generating `rank_num` and `rank_category`\n",
        "*   Regex expression for searching specific key words\n",
        "\n"
      ],
      "metadata": {
        "id": "OxQ_bvhlpAkW"
      },
      "id": "OxQ_bvhlpAkW"
    },
    {
      "cell_type": "code",
      "source": [
        "##Cleaning data (cited from: https://github.com/yuchiahung/data-course-sample/blob/main/hw1_Ana.ipynb)\n",
        "##Peaking data firstly\n",
        "metadata_clean = metadata.loc[metadata.astype(str).drop_duplicates().index]\n",
        "metadata_clean.replace('', np.nan, inplace = True)\n",
        "\n",
        "\n",
        "# clean column `rank` -> Parsing out to RankNum + RankCategory\n",
        "metadata_clean['rank'] = metadata_clean['rank'].str.replace('&amp;', '&')\n",
        "metadata_clean['rank'].fillna('0', inplace = True)\n",
        "metadata_clean['rank_category'] = [re.search('in (.*) \\(', r).group(1) if r != '0' else None for r in metadata_clean['rank']]\n",
        "metadata_clean['rank_num'] = [re.search('(.*) in .*', r).group(1) if r != '0' else None for r in metadata_clean['rank']]\n",
        "metadata_clean['rank_num'] = metadata_clean['rank_num'].str.replace(',', '').astype(float)\n",
        "\n",
        "# excluding category != 'Beauty & Personal Care'\n",
        "metadata_clean = metadata_clean[metadata_clean.rank_category == 'Beauty & Personal Care']\n",
        "\n",
        "# convert `price` to float\n",
        "metadata_clean['price'].fillna('0', inplace = True)\n",
        "metadata_clean['price'] = [re.search('\\$(.*)', p).group(1) if re.search('\\$(.*)', p) != None else None for p in metadata_clean['price']]\n",
        "metadata_clean['price'] = metadata_clean['price'].str.replace(',', '').astype(float)\n",
        "\n",
        "# drop useless columns\n",
        "metadata_clean.drop(\n",
        "    ['category', 'tech1', 'fit', 'tech2', 'date', 'similar_item', 'feature', 'main_cat', 'rank'], \n",
        "    axis = 1, \n",
        "    inplace = True\n",
        ")"
      ],
      "metadata": {
        "id": "gifH_sdUpJsa"
      },
      "id": "gifH_sdUpJsa",
      "execution_count": null,
      "outputs": []
    },
    {
      "cell_type": "markdown",
      "metadata": {
        "id": "LiQmRKMp5D0y"
      },
      "source": [
        "### Step3-3: Split time frame for testing and validation purpose\n",
        "\n",
        "\n",
        "*   Visualize the distribution of sales on the time axis\n",
        "\n"
      ],
      "id": "LiQmRKMp5D0y"
    },
    {
      "cell_type": "code",
      "execution_count": 8,
      "metadata": {
        "id": "LX_ZEBJY5D0y"
      },
      "outputs": [],
      "source": [
        "ratings_trainings = ratings[\n",
        "    (ratings['DATE'] < '2018-09-01')\n",
        "]\n",
        "ratings_testings = ratings[\n",
        "    (ratings['DATE'] >= '2018-09-01') & \n",
        "    (ratings['DATE'] <= '2018-09-30')\n",
        "]\n",
        "ratings_testings_by_user = ratings_testings.groupby('reviewerID').agg(list).reset_index()[['reviewerID', 'asin']].to_dict('records')\n",
        "ratings_testings_by_user = { rating['reviewerID']: rating['asin'] for rating in ratings_testings_by_user }\n",
        "users = list(ratings_testings_by_user.keys())"
      ],
      "id": "LX_ZEBJY5D0y"
    },
    {
      "cell_type": "markdown",
      "source": [
        "## Step4. Analysis of the data\n",
        "\n",
        "\n",
        "1.   Sales perspective\n",
        "2.   Prices perspective\n",
        "3.   Other insights\n",
        "\n"
      ],
      "metadata": {
        "id": "fUmx72kNnsQN"
      },
      "id": "fUmx72kNnsQN"
    },
    {
      "cell_type": "markdown",
      "metadata": {
        "id": "N5a3qrjf5D0z"
      },
      "source": [
        "## Step5. Rule-based Recommendation Algorithm Implementation\n",
        "\n",
        "\n",
        "*   Rule1: 1234\n",
        "*   Rule2: 4567\n",
        "*   Rule3: 78910\n",
        "\n"
      ],
      "id": "N5a3qrjf5D0z"
    },
    {
      "cell_type": "code",
      "execution_count": null,
      "metadata": {
        "id": "KPRFU2MH5D0z",
        "outputId": "19bdf97a-c88e-4d70-9991-5b3672c2a577",
        "colab": {
          "base_uri": "https://localhost:8080/"
        }
      },
      "outputs": [
        {
          "output_type": "execute_result",
          "data": {
            "text/plain": [
              "{}"
            ]
          },
          "metadata": {},
          "execution_count": 8
        }
      ],
      "source": [
        "def recommender(training_data, users=[], k=10):\n",
        "    '''\n",
        "    * training_data: dataframe 輸入的訓練資料集（2018-09-01 以前資料）\n",
        "    * users: [] 需要被推薦的使用者\n",
        "    * k: int 每個使用者需要推薦的商品數\n",
        "    * recommendations: dict\n",
        "      {\n",
        "          使用者一： [推薦商品一, 推薦商品二, ...],\n",
        "          使用者二： [...], ...\n",
        "      }\n",
        "    '''\n",
        "    recommendations = {}\n",
        "    '''\n",
        "    Your Code\n",
        "    '''\n",
        "    return recommendations\n",
        "\n",
        "\n",
        "ratings_by_user = recommender(ratings_trainings, users)\n",
        "ratings_by_user"
      ],
      "id": "KPRFU2MH5D0z"
    },
    {
      "cell_type": "markdown",
      "metadata": {
        "id": "fhjzHsV05D00"
      },
      "source": [
        "## Step6. Evaluations"
      ],
      "id": "fhjzHsV05D00"
    },
    {
      "cell_type": "code",
      "execution_count": null,
      "metadata": {
        "id": "WYl2JKVS5D00",
        "outputId": "370ed9ee-a6c3-4cf2-e76a-cb28fd516cfc",
        "colab": {
          "base_uri": "https://localhost:8080/"
        }
      },
      "outputs": [
        {
          "output_type": "execute_result",
          "data": {
            "text/plain": [
              "0.0"
            ]
          },
          "metadata": {},
          "execution_count": 9
        }
      ],
      "source": [
        "def evaluate(ratings_testings_by_user={}, ratings_by_user={}, method=None):\n",
        "    '''\n",
        "    * ratings_testings_by_user: dict 真實被購買的商品資料（2018-09-01 以後資料）\n",
        "    * ratings_by_user: dict 利用訓練資料學習的推薦商品\n",
        "    * method: str\n",
        "    * score: float\n",
        "    '''\n",
        "    total = 0\n",
        "    for d in ratings_testings_by_user:\n",
        "        if d in ratings_by_user:\n",
        "            total += len(set(ratings_by_user[d]) & set(ratings_testings_by_user[d]))\n",
        "\n",
        "    score = total / len(ratings_testings)\n",
        "    return score\n",
        "\n",
        "evaluate(ratings_testings_by_user, ratings_by_user)"
      ],
      "id": "WYl2JKVS5D00"
    },
    {
      "cell_type": "code",
      "execution_count": null,
      "metadata": {
        "id": "PIubIxMd5D01"
      },
      "outputs": [],
      "source": [
        "testVar = '12/19/2021'"
      ],
      "id": "PIubIxMd5D01"
    }
  ],
  "metadata": {
    "kernelspec": {
      "display_name": "Python 3",
      "language": "python",
      "name": "python3"
    },
    "language_info": {
      "codemirror_mode": {
        "name": "ipython",
        "version": 3
      },
      "file_extension": ".py",
      "mimetype": "text/x-python",
      "name": "python",
      "nbconvert_exporter": "python",
      "pygments_lexer": "ipython3",
      "version": "3.6.5"
    },
    "colab": {
      "name": "sample.ipynb",
      "provenance": []
    }
  },
  "nbformat": 4,
  "nbformat_minor": 5
}