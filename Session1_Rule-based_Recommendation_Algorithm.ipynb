{
  "cells": [
    {
      "cell_type": "markdown",
      "metadata": {
        "id": "view-in-github",
        "colab_type": "text"
      },
      "source": [
        "<a href=\"https://colab.research.google.com/github/phwangktw/data-course-sample/blob/main/Session1_Rule-based_Recommendation_Algorithm.ipynb\" target=\"_parent\"><img src=\"https://colab.research.google.com/assets/colab-badge.svg\" alt=\"Open In Colab\"/></a>"
      ]
    },
    {
      "cell_type": "markdown",
      "metadata": {
        "id": "vWGdvflM5D0n"
      },
      "source": [
        "# Session1: Rule-based Recommendation Algorithm"
      ],
      "id": "vWGdvflM5D0n"
    },
    {
      "cell_type": "markdown",
      "metadata": {
        "id": "AG-w4GJ45D0q"
      },
      "source": [
        "## Step1. Load data"
      ],
      "id": "AG-w4GJ45D0q"
    },
    {
      "cell_type": "code",
      "execution_count": 2,
      "metadata": {
        "scrolled": true,
        "id": "sRTULEtn5D0r"
      },
      "outputs": [],
      "source": [
        "import pandas as pd\n",
        "import numpy as np\n",
        "import gzip, json\n",
        "from os.path import exists\n",
        "\n",
        "import matplotlib.pyplot as plt\n",
        "import seaborn as sns\n",
        "import re\n",
        "import datetime\n",
        "sns.set_style(\"whitegrid\")\n",
        "\n",
        "def parse(path):\n",
        "    g = gzip.open(path, 'rb')\n",
        "    for l in g:\n",
        "        yield json.loads(l)\n",
        "\n",
        "def getDF(path):\n",
        "    i = 0\n",
        "    df = {}\n",
        "    for d in parse(path):\n",
        "        df[i] = d\n",
        "        i += 1\n",
        "    return pd.DataFrame.from_dict(df, orient='index')"
      ],
      "id": "sRTULEtn5D0r"
    },
    {
      "cell_type": "markdown",
      "metadata": {
        "id": "pYymDSh45D0t"
      },
      "source": [
        "## Step2. Download data"
      ],
      "id": "pYymDSh45D0t"
    },
    {
      "cell_type": "code",
      "execution_count": 3,
      "metadata": {
        "id": "94C7R62V5D0u",
        "outputId": "2403aaaf-e0bf-44a6-a3b3-d69d1d70a4d7",
        "colab": {
          "base_uri": "https://localhost:8080/"
        }
      },
      "outputs": [
        {
          "output_type": "stream",
          "name": "stdout",
          "text": [
            "--2021-12-31 03:59:30--  http://deepyeti.ucsd.edu/jianmo/amazon/categoryFilesSmall/All_Beauty.csv\n",
            "Resolving deepyeti.ucsd.edu (deepyeti.ucsd.edu)... 169.228.63.50\n",
            "Connecting to deepyeti.ucsd.edu (deepyeti.ucsd.edu)|169.228.63.50|:80... connected.\n",
            "HTTP request sent, awaiting response... 200 OK\n",
            "Length: 15499476 (15M) [application/octet-stream]\n",
            "Saving to: ‘All_Beauty.csv’\n",
            "\n",
            "All_Beauty.csv      100%[===================>]  14.78M  20.1MB/s    in 0.7s    \n",
            "\n",
            "2021-12-31 03:59:31 (20.1 MB/s) - ‘All_Beauty.csv’ saved [15499476/15499476]\n",
            "\n",
            "--2021-12-31 03:59:31--  http://deepyeti.ucsd.edu/jianmo/amazon/metaFiles2/meta_All_Beauty.json.gz\n",
            "Resolving deepyeti.ucsd.edu (deepyeti.ucsd.edu)... 169.228.63.50\n",
            "Connecting to deepyeti.ucsd.edu (deepyeti.ucsd.edu)|169.228.63.50|:80... connected.\n",
            "HTTP request sent, awaiting response... 200 OK\n",
            "Length: 10329961 (9.9M) [application/octet-stream]\n",
            "Saving to: ‘meta_All_Beauty.json.gz’\n",
            "\n",
            "meta_All_Beauty.jso 100%[===================>]   9.85M  15.2MB/s    in 0.6s    \n",
            "\n",
            "2021-12-31 03:59:31 (15.2 MB/s) - ‘meta_All_Beauty.json.gz’ saved [10329961/10329961]\n",
            "\n"
          ]
        }
      ],
      "source": [
        "!wget http://deepyeti.ucsd.edu/jianmo/amazon/categoryFilesSmall/All_Beauty.csv\n",
        "!wget http://deepyeti.ucsd.edu/jianmo/amazon/metaFiles2/meta_All_Beauty.json.gz"
      ],
      "id": "94C7R62V5D0u"
    },
    {
      "cell_type": "code",
      "execution_count": 4,
      "metadata": {
        "id": "bXT6fiza5D0v"
      },
      "outputs": [],
      "source": [
        "metadata = getDF('/content/meta_All_Beauty.json.gz')\n",
        "ratings = pd.read_csv('/content/All_Beauty.csv', names=['asin', 'reviewerID', 'overall', 'unixReviewTime'], header=None)"
      ],
      "id": "bXT6fiza5D0v"
    },
    {
      "cell_type": "markdown",
      "metadata": {
        "id": "QIhY9kbZ5D0x"
      },
      "source": [
        "## Step3. Parsing data"
      ],
      "id": "QIhY9kbZ5D0x"
    },
    {
      "cell_type": "markdown",
      "source": [
        "### Step3-1: Convert time format"
      ],
      "metadata": {
        "id": "vyPiZCLpoxEC"
      },
      "id": "vyPiZCLpoxEC"
    },
    {
      "cell_type": "code",
      "execution_count": 5,
      "metadata": {
        "id": "REDFV9CK5D0x"
      },
      "outputs": [],
      "source": [
        "ratings['DATE'] = pd.to_datetime(ratings['unixReviewTime'], unit='s')"
      ],
      "id": "REDFV9CK5D0x"
    },
    {
      "cell_type": "markdown",
      "source": [
        "### Step3-2: Data preprocessing\n",
        "\n",
        "\n",
        "*   Dropout the duplicated rows\n",
        "*   Fill the blanks with `nan`\n",
        "*   Parsing the `description` column for generating `rank_num` and `rank_category`\n",
        "*   Regex expression for searching specific key words\n",
        "\n"
      ],
      "metadata": {
        "id": "OxQ_bvhlpAkW"
      },
      "id": "OxQ_bvhlpAkW"
    },
    {
      "cell_type": "code",
      "source": [
        "##Cleaning data (cited from: https://github.com/yuchiahung/data-course-sample/blob/main/hw1_Ana.ipynb)\n",
        "##Peaking data firstly\n",
        "metadata_clean = metadata.loc[metadata.astype(str).drop_duplicates().index]\n",
        "metadata_clean.replace('', np.nan, inplace = True)\n",
        "\n",
        "\n",
        "# clean column `rank` -> Parsing out to RankNum + RankCategory\n",
        "metadata_clean['rank'] = metadata_clean['rank'].str.replace('&amp;', '&')\n",
        "metadata_clean['rank'].fillna('0', inplace = True)\n",
        "metadata_clean['rank_category'] = [re.search('in (.*) \\(', r).group(1) if r != '0' else None for r in metadata_clean['rank']]\n",
        "metadata_clean['rank_num'] = [re.search('(.*) in .*', r).group(1) if r != '0' else None for r in metadata_clean['rank']]\n",
        "metadata_clean['rank_num'] = metadata_clean['rank_num'].str.replace(',', '').astype(float)\n",
        "\n",
        "# excluding category != 'Beauty & Personal Care'\n",
        "metadata_clean = metadata_clean[metadata_clean.rank_category == 'Beauty & Personal Care']\n",
        "\n",
        "# convert `price` to float\n",
        "metadata_clean['price'].fillna('0', inplace = True)\n",
        "metadata_clean['price'] = [re.search('\\$(.*)', p).group(1) if re.search('\\$(.*)', p) != None else None for p in metadata_clean['price']]\n",
        "metadata_clean['price'] = metadata_clean['price'].str.replace(',', '').astype(float)\n",
        "\n",
        "# drop useless columns\n",
        "metadata_clean.drop(\n",
        "    ['category', 'tech1', 'fit', 'tech2', 'date', 'similar_item', 'feature', 'main_cat', 'rank'], \n",
        "    axis = 1, \n",
        "    inplace = True\n",
        ")"
      ],
      "metadata": {
        "colab": {
          "base_uri": "https://localhost:8080/"
        },
        "id": "gifH_sdUpJsa",
        "outputId": "eac91fd1-987e-4e9a-ad0f-f40c41a9e5ed"
      },
      "id": "gifH_sdUpJsa",
      "execution_count": 6,
      "outputs": [
        {
          "output_type": "stream",
          "name": "stderr",
          "text": [
            "/usr/local/lib/python3.7/dist-packages/pandas/core/series.py:4536: SettingWithCopyWarning: \n",
            "A value is trying to be set on a copy of a slice from a DataFrame\n",
            "\n",
            "See the caveats in the documentation: https://pandas.pydata.org/pandas-docs/stable/user_guide/indexing.html#returning-a-view-versus-a-copy\n",
            "  downcast=downcast,\n",
            "/usr/local/lib/python3.7/dist-packages/ipykernel_launcher.py:19: SettingWithCopyWarning: \n",
            "A value is trying to be set on a copy of a slice from a DataFrame.\n",
            "Try using .loc[row_indexer,col_indexer] = value instead\n",
            "\n",
            "See the caveats in the documentation: https://pandas.pydata.org/pandas-docs/stable/user_guide/indexing.html#returning-a-view-versus-a-copy\n",
            "/usr/local/lib/python3.7/dist-packages/ipykernel_launcher.py:20: SettingWithCopyWarning: \n",
            "A value is trying to be set on a copy of a slice from a DataFrame.\n",
            "Try using .loc[row_indexer,col_indexer] = value instead\n",
            "\n",
            "See the caveats in the documentation: https://pandas.pydata.org/pandas-docs/stable/user_guide/indexing.html#returning-a-view-versus-a-copy\n",
            "/usr/local/lib/python3.7/dist-packages/pandas/core/frame.py:4174: SettingWithCopyWarning: \n",
            "A value is trying to be set on a copy of a slice from a DataFrame\n",
            "\n",
            "See the caveats in the documentation: https://pandas.pydata.org/pandas-docs/stable/user_guide/indexing.html#returning-a-view-versus-a-copy\n",
            "  errors=errors,\n"
          ]
        }
      ]
    },
    {
      "cell_type": "markdown",
      "metadata": {
        "id": "LiQmRKMp5D0y"
      },
      "source": [
        "### Step3-3: Split time frame for testing and validation purpose\n",
        "\n",
        "\n",
        "*   Visualize the distribution of sales on the time axis\n",
        "\n"
      ],
      "id": "LiQmRKMp5D0y"
    },
    {
      "cell_type": "code",
      "execution_count": 7,
      "metadata": {
        "id": "LX_ZEBJY5D0y"
      },
      "outputs": [],
      "source": [
        "ratings_trainings = ratings[\n",
        "    (ratings['DATE'] < '2018-09-01')\n",
        "]\n",
        "ratings_testings = ratings[\n",
        "    (ratings['DATE'] >= '2018-09-01') & \n",
        "    (ratings['DATE'] <= '2018-09-30')\n",
        "]\n",
        "ratings_testings_by_user = ratings_testings.groupby('reviewerID').agg(list).reset_index()[['reviewerID', 'asin']].to_dict('records')\n",
        "ratings_testings_by_user = { rating['reviewerID']: rating['asin'] for rating in ratings_testings_by_user }\n",
        "users = list(ratings_testings_by_user.keys())"
      ],
      "id": "LX_ZEBJY5D0y"
    },
    {
      "cell_type": "markdown",
      "source": [
        "## Step4. Analysis of the data\n",
        "\n",
        "\n",
        "1.   Sales perspective\n",
        "2.   Prices perspective\n",
        "3.   Other insights\n",
        "\n"
      ],
      "metadata": {
        "id": "fUmx72kNnsQN"
      },
      "id": "fUmx72kNnsQN"
    },
    {
      "cell_type": "markdown",
      "source": [
        "### 4-1 Sales perspetive"
      ],
      "metadata": {
        "id": "yd-B8024o3r1"
      },
      "id": "yd-B8024o3r1"
    },
    {
      "cell_type": "code",
      "source": [
        "# Distribution of product sales \n",
        "item_purchased_count = ratings_trainings.groupby(by = 'asin')[['reviewerID']].count()\n",
        "\n",
        "# All top 10 items \n",
        "top10_items_lst = item_purchased_count.reset_index().sort_values('reviewerID', ascending = False).head(10).asin.tolist()\n",
        "top10_items = ratings_trainings[ratings_trainings.asin.isin(top10_items_lst)]\n",
        "# sort by sales\n",
        "top10_items = top10_items.set_index('asin').loc[top10_items_lst].reset_index()\n",
        "top10_items.head()\n",
        "\n",
        "# last year top 10 items \n",
        "item_purchased_count_year = ratings_trainings[ratings_trainings.DATE >= '2017-09-01'].\\\n",
        "    groupby(by = 'asin')[['reviewerID']].count()\n",
        "\n",
        "top10_items_year_lst = item_purchased_count_year.reset_index().sort_values('reviewerID', ascending = False).head(10).asin.tolist()\n",
        "top10_items_year = ratings_trainings[ratings_trainings.asin.isin(top10_items_year_lst)]\n",
        "# sort by sales\n",
        "top10_items_year = top10_items_year.set_index('asin').loc[top10_items_year_lst].reset_index()\n",
        "top10_items_year.head()\n",
        "\n",
        "# last month top 10 items \n",
        "item_purchased_count_month = ratings_trainings[ratings_trainings.DATE >= '2018-08-01'].\\\n",
        "    groupby(by = 'asin')[['reviewerID']].count()\n",
        "\n",
        "top10_items_month_lst = item_purchased_count_month.reset_index().sort_values('reviewerID', ascending = False).head(10).asin.tolist()\n",
        "top10_items_month = ratings_trainings[ratings_trainings.asin.isin(top10_items_month_lst)]\n",
        "# sort by sales\n",
        "top10_items_month = top10_items_month.set_index('asin').loc[top10_items_month_lst].reset_index()\n",
        "top10_items_month.head()\n",
        "\n",
        "fig, axs = plt.subplots(10, 3, sharex = True, sharey = True, figsize = (12, 10))\n",
        "d = top10_items.groupby(['asin', 'DATE']).count().reset_index()\n",
        "for i, a in enumerate(top10_items.asin.unique()):\n",
        "    sns.histplot(data = d[d.asin == a], \n",
        "                x = 'DATE', hue = 'asin', palette = 'tab20', \n",
        "                legend = False, binwidth = (90), ax = axs[i, 0]\n",
        ")\n",
        "\n",
        "d_year = top10_items_year.groupby(['asin', 'DATE']).count().reset_index()\n",
        "for i, a in enumerate(top10_items_year.asin.unique()):\n",
        "    sns.histplot(data = d_year[d_year.asin == a], \n",
        "                x = 'DATE', hue = 'asin', palette = 'tab20', \n",
        "                legend = False, binwidth = (90), ax = axs[i, 1]\n",
        ")\n",
        "\n",
        "d_month = top10_items_month.groupby(['asin', 'DATE']).count().reset_index()\n",
        "for i, a in enumerate(top10_items_month.asin.unique()):\n",
        "    sns.histplot(data = d_month[d_month.asin == a], \n",
        "                x = 'DATE', hue = 'asin', palette = 'tab20', \n",
        "                legend = False, binwidth = (90), ax = axs[i, 2]\n",
        ")\n",
        "\n",
        "plt.tight_layout()\n",
        "plt.suptitle('Sales date of top 10 items')\n",
        "axs[0, 0].set_title('All data')\n",
        "axs[0, 1].set_title('Last year data')\n",
        "axs[0, 2].set_title('Last month data')\n",
        "fig.subplots_adjust(top = 0.92, hspace=-.01)\n",
        "sns.despine()\n",
        "\n",
        "plt.xlim(datetime.datetime(2000,1,10), datetime.datetime(2018,9,1))"
      ],
      "metadata": {
        "colab": {
          "base_uri": "https://localhost:8080/",
          "height": 743
        },
        "id": "wOzkE3p5o7W7",
        "outputId": "7d48b06d-70bf-440a-e51b-21480b4b5540"
      },
      "id": "wOzkE3p5o7W7",
      "execution_count": 9,
      "outputs": [
        {
          "output_type": "execute_result",
          "data": {
            "text/plain": [
              "(730129.0, 736938.0)"
            ]
          },
          "metadata": {},
          "execution_count": 9
        },
        {
          "output_type": "display_data",
          "data": {
            "image/png": "[encoded data removed]",
            "text/plain": [
              "<Figure size 864x720 with 30 Axes>"
            ]
          },
          "metadata": {}
        }
      ]
    },
    {
      "cell_type": "markdown",
      "metadata": {
        "id": "N5a3qrjf5D0z"
      },
      "source": [
        "## Step5. Rule-based Recommendation Algorithm Implementation\n",
        "\n",
        "\n",
        "*   Rule1: Based on the past year top10 popular products (highest numbers of the customers' comment and the highest rating scores)\n",
        "*   Rule2: Multiple rules added to this algorithm\n",
        "\n",
        "\n",
        "  1.   If the historical purchasements exists, based on that specific purchased items, we can refer `also_view`, `also_buy` and `same_brand`. \n",
        "  2.   20% of the remaining are recommended from the highest rankings.\n",
        "  3.   Others are composed of the most popular items.\n",
        "\n",
        "\n",
        "\n"
      ],
      "id": "N5a3qrjf5D0z"
    },
    {
      "cell_type": "code",
      "execution_count": 15,
      "metadata": {
        "id": "KPRFU2MH5D0z"
      },
      "outputs": [],
      "source": [
        "#Rule1: A year-based recommendation\n",
        "def recommender_rule1(training_data, users=[], k=10):\n",
        "    '''\n",
        "    * training_data: dataframe 輸入的訓練資料集（2018-09-01 以前資料）\n",
        "    * users: [] 需要被推薦的使用者\n",
        "    * k: int 每個使用者需要推薦的商品數\n",
        "    * recommendations: dict\n",
        "      {\n",
        "          使用者一： [推薦商品一, 推薦商品二, ...],\n",
        "          使用者二： [...], ...\n",
        "      }\n",
        "    '''\n",
        "    recommendations = {}\n",
        "    ## Best seller (by rating data) & highest rating products (recommend `k` product)\n",
        "    products_rating = training_data[training_data.DATE >= '2017-09-01'].groupby('asin')[['overall']].agg(['mean', 'count'])\n",
        "    products_rating.columns = products_rating.columns.droplevel(0)\n",
        "    best_seller_lst = products_rating.sort_values(by = ['count', 'mean'], ascending = False).index.tolist()[:k]\n",
        "\n",
        "    recommendations = {user: best_seller_lst for user in users}\n",
        "    return recommendations\n",
        "\n",
        "rcListRule1 = recommender_rule1(ratings_trainings, users)"
      ],
      "id": "KPRFU2MH5D0z"
    },
    {
      "cell_type": "code",
      "source": [
        "#Rule2: A year-based recommendation\n",
        "def recommender_rule2(training_data, users=[], k=10):\n",
        "    '''\n",
        "    * training_data: dataframe 輸入的訓練資料集（2018-09-01 以前資料）\n",
        "    * users: [] 需要被推薦的使用者\n",
        "    * k: int 每個使用者需要推薦的商品數\n",
        "    * recommendations: dict\n",
        "      {\n",
        "          使用者一： [推薦商品一, 推薦商品二, ...],\n",
        "          使用者二： [...], ...\n",
        "      }\n",
        "    '''\n",
        "    training_data = training_data[training_data.DATE >= '2017-09-01'].copy()\n",
        "    recommendations = {}\n",
        "\n",
        "    ## Highest rank\n",
        "    highest_ranking_lst = metadata_clean.sort_values(by = 'rank_num')['asin'].tolist()\n",
        "\n",
        "    ## Excluding lowest rating products \n",
        "    products_rating = training_data.groupby('asin')[['overall']].agg(['mean', 'count'])\n",
        "    products_rating.columns = products_rating.columns.droplevel(0)\n",
        "    lowest_rating_lst = products_rating[products_rating['mean'] < 3].index.tolist()\n",
        "\n",
        "    ## Best seller (by rating data) & highest rating products\n",
        "    best_seller_lst = products_rating.reset_index().sort_values(by = ['count', 'mean'], ascending = False)['asin'].tolist()\n",
        "\n",
        "    for u in users:\n",
        "        # purchased before\n",
        "        user_recom = []\n",
        "        # if the user already have historical purchasement\n",
        "        if u in training_data['reviewerID'].values:\n",
        "            \n",
        "            # recommend `k1` products\n",
        "            k1 = min(sum(training_data.reviewerID == u) * 3, 5)\n",
        "            items_purchase = training_data.loc[training_data.reviewerID == u, 'asin'].values\n",
        "            \n",
        "            for i in items_purchase:\n",
        "\n",
        "                # item i's `also_buy` \n",
        "                also_buy_lst = metadata_clean.loc[metadata_clean.asin == i, 'also_buy'].values[0]\n",
        "                user_recom += also_buy_lst\n",
        "                \n",
        "                # item i's `also_view`\n",
        "                also_view_lst = metadata_clean.loc[metadata_clean.asin == i, 'also_view'].values[0]\n",
        "                user_recom += also_view_lst\n",
        "                \n",
        "                # items that other users who review item i also review (by rating data)\n",
        "                also_review_users_lst = training_data.loc[(training_data.asin == i) & (training_data.reviewerID != u), 'reviewerID'].unique()\n",
        "                also_review_items_lst = training_data.loc[(training_data.reviewerID.isin(also_review_users_lst)) & (training_data.asin != i), 'asin'].tolist()\n",
        "                user_recom += also_review_items_lst\n",
        "\n",
        "                # same brand \n",
        "                item_brand = metadata_clean.loc[metadata_clean.asin == i, 'brand'].values[0]\n",
        "                # print(item_brand)\n",
        "                # print(pd.isnull(item_brand))\n",
        "                if pd.isnull(item_brand):\n",
        "                    smae_brand_lst = metadata_clean.loc[metadata_clean.brand == item_brand, 'asin'].tolist()\n",
        "                    user_recom += smae_brand_lst\n",
        "\n",
        "                # at most k1 items from purchase history\n",
        "                user_recom = user_recom[:k1]\n",
        "        else:\n",
        "            k1 = 0\n",
        "        \n",
        "        # Popular products (recommend `k_left` products)\n",
        "        k_left = k - len(user_recom)\n",
        "        k2 = round(k_left * 0.2)\n",
        "\n",
        "        # concat all the item lists (k2 by rank, k3 by rating, others by sales)\n",
        "        user_recom = user_recom + highest_ranking_lst[:k2] + best_seller_lst\n",
        "        \n",
        "        user_recom_k = []\n",
        "        for p in user_recom:\n",
        "            if p not in lowest_rating_lst:\n",
        "                user_recom_k.append(p)\n",
        "                if len(user_recom_k) >= 10:\n",
        "                    break\n",
        "        # user_recom = [i for i in user_recom if i not in lowest_rating_lst][:k]\n",
        "        recommendations[u] = user_recom_k\n",
        "    \n",
        "    return recommendations\n",
        "\n",
        "\n",
        "rcListRule2 = recommender_rule2(ratings_trainings, users)"
      ],
      "metadata": {
        "id": "eBt5Nhoi2oZg"
      },
      "id": "eBt5Nhoi2oZg",
      "execution_count": 16,
      "outputs": []
    },
    {
      "cell_type": "markdown",
      "metadata": {
        "id": "fhjzHsV05D00"
      },
      "source": [
        "## Step6. Evaluations"
      ],
      "id": "fhjzHsV05D00"
    },
    {
      "cell_type": "code",
      "execution_count": 18,
      "metadata": {
        "id": "WYl2JKVS5D00",
        "outputId": "5b4cd408-d272-4828-a8ee-2c79f7f2d314",
        "colab": {
          "base_uri": "https://localhost:8080/"
        }
      },
      "outputs": [
        {
          "output_type": "stream",
          "name": "stdout",
          "text": [
            "Rule1: \n",
            "0.0983\n",
            "Rule2: \n",
            "0.0983\n"
          ]
        }
      ],
      "source": [
        "def evaluate(ratings_testings_by_user={}, ratings_by_user={}, method=None):\n",
        "    '''\n",
        "    * ratings_testings_by_user: dict 真實被購買的商品資料（2018-09-01 以後資料）\n",
        "    * ratings_by_user: dict 利用訓練資料學習的推薦商品\n",
        "    * method: str\n",
        "    * score: float\n",
        "    '''\n",
        "    total = 0\n",
        "    for d in ratings_testings_by_user:\n",
        "        if d in ratings_by_user:\n",
        "            total += len(set(ratings_by_user[d]) & set(ratings_testings_by_user[d]))\n",
        "\n",
        "    score = total / len(ratings_testings)\n",
        "    return score\n",
        "\n",
        "# Rule1: A year-based recommendation\n",
        "print(f'Rule1: \\n{round(evaluate(ratings_testings_by_user, rcListRule1), 4)}')\n",
        "print(f'Rule2: \\n{round(evaluate(ratings_testings_by_user, rcListRule2), 4)}')"
      ],
      "id": "WYl2JKVS5D00"
    },
    {
      "cell_type": "code",
      "execution_count": null,
      "metadata": {
        "id": "PIubIxMd5D01"
      },
      "outputs": [],
      "source": [
        ""
      ],
      "id": "PIubIxMd5D01"
    }
  ],
  "metadata": {
    "kernelspec": {
      "display_name": "Python 3",
      "language": "python",
      "name": "python3"
    },
    "language_info": {
      "codemirror_mode": {
        "name": "ipython",
        "version": 3
      },
      "file_extension": ".py",
      "mimetype": "text/x-python",
      "name": "python",
      "nbconvert_exporter": "python",
      "pygments_lexer": "ipython3",
      "version": "3.6.5"
    },
    "colab": {
      "name": "sample.ipynb",
      "provenance": [],
      "include_colab_link": true
    }
  },
  "nbformat": 4,
  "nbformat_minor": 5
}